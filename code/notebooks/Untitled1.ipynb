{
 "cells": [
  {
   "cell_type": "code",
   "execution_count": 4,
   "id": "4de8a7eb",
   "metadata": {},
   "outputs": [],
   "source": [
    "from nilearn import plotting\n",
    "%matplotlib inline\n",
    "\n",
    "from nipype.interfaces.io import DataGrabber, DataSink\n",
    "\n",
    "from nipype import Node, JoinNode, Workflow\n",
    "\n",
    "#import nipype_settings\n",
    "import nipype.interfaces.matlab as Matlab\n",
    "from nipype.interfaces.base import TraitedSpec, \\\n",
    "    BaseInterface, BaseInterfaceInputSpec, File, \\\n",
    "    Directory\n",
    "\n",
    "from string import Template\n",
    "\n",
    "import sys\n",
    "\n",
    "from nipype.interfaces.utility import Function, IdentityInterface, Select, Rename\n",
    "from nipype.interfaces.base import BaseInterface, BaseInterfaceInputSpec, CommandLine, Directory, File, TraitedSpec, traits\n",
    "\n",
    "import nibabel as nib\n",
    "\n",
    "from os.path import abspath\n",
    "\n",
    "import pygraphviz \n",
    "\n",
    "from nipype import config\n",
    "config.enable_debug_mode()\n",
    "\n",
    "from nipype.interfaces.freesurfer import ReconAll, MRIConvert\n",
    "\n",
    "\n",
    "from nipype.interfaces.matlab import MatlabCommand\n",
    "\n",
    "from nipype.interfaces import spm\n",
    "#spm.SPMCommand.set_mlab_paths(paths=os.environ['SPM_PATH'])\n",
    "#spm.SPMCommand().version\n",
    "\n",
    "from nipype.utils.filemanip import copyfiles\n",
    "\n",
    "# ants installation: http://miykael.github.io/nipype-beginner-s-guide/installation.html#ants\n",
    "from nipype.interfaces.ants import N4BiasFieldCorrection\n",
    "from nipype.interfaces.ants.segmentation import BrainExtraction\n",
    "\n",
    "from nipype.interfaces.fsl import BET\n",
    "\n",
    "from nipype.interfaces.fsl.maths import ApplyMask\n",
    "\n",
    "from nipype.interfaces.freesurfer.model import Binarize\n",
    "\n",
    "from nipype.interfaces.freesurfer.registration import MRICoreg\n",
    "from nipype.interfaces.freesurfer.preprocess import BBRegister\n",
    "\n",
    "from nipype.interfaces.fsl.maths import BinaryMaths\n",
    "#from nipype.interfaces.niftyseg.maths import BinaryMaths\n",
    "#from nipype.interfaces.niftyseg import BinaryMathsInteger\n",
    "#!echo $SPM_PATH\n",
    "\n",
    "from nipype.interfaces import utility as niu\n",
    "\n",
    "\n",
    "from nipype.interfaces.afni import Automask\n",
    "\n",
    "from nipype.interfaces.fsl import Merge as fslMerge\n",
    "from nipype.interfaces.utility.base import Merge as utilMerge\n",
    "from nipype.interfaces.fsl import MultiImageMaths\n",
    "\n",
    "#from nipype.interfaces.mipav.developer import JistIntensityMp2rageMasking, MedicAlgorithmSPECTRE2010\n",
    "\n",
    "# These will let us use R packages:\n",
    "from rpy2.robjects.packages import importr\n",
    "from rpy2.robjects import pandas2ri"
   ]
  },
  {
   "cell_type": "code",
   "execution_count": 6,
   "id": "3092d417",
   "metadata": {},
   "outputs": [
    {
     "ename": "NameError",
     "evalue": "name 'install' is not defined",
     "output_type": "error",
     "traceback": [
      "\u001b[0;31m---------------------------------------------------------------------------\u001b[0m",
      "\u001b[0;31mNameError\u001b[0m                                 Traceback (most recent call last)",
      "Cell \u001b[0;32mIn[6], line 1\u001b[0m\n\u001b[0;32m----> 1\u001b[0m \u001b[43minstall\u001b[49m\u001b[38;5;241m.\u001b[39mpackages(\u001b[38;5;124m\"\u001b[39m\u001b[38;5;124mdevtools\u001b[39m\u001b[38;5;124m\"\u001b[39m)\n",
      "\u001b[0;31mNameError\u001b[0m: name 'install' is not defined"
     ]
    }
   ],
   "source": [
    "install.packages(\"devtools\")"
   ]
  },
  {
   "cell_type": "code",
   "execution_count": null,
   "id": "f045eb1c",
   "metadata": {},
   "outputs": [],
   "source": [
    "devtools::install_github(\"muschellij2/WhiteStripe\")"
   ]
  },
  {
   "cell_type": "code",
   "execution_count": 5,
   "id": "df580c29",
   "metadata": {},
   "outputs": [
    {
     "ename": "PackageNotInstalledError",
     "evalue": "The R package \"WhiteStripe\" is not installed.",
     "output_type": "error",
     "traceback": [
      "\u001b[0;31m---------------------------------------------------------------------------\u001b[0m",
      "\u001b[0;31mPackageNotInstalledError\u001b[0m                  Traceback (most recent call last)",
      "Cell \u001b[0;32mIn[5], line 1\u001b[0m\n\u001b[0;32m----> 1\u001b[0m WhiteStripe \u001b[38;5;241m=\u001b[39m \u001b[43mimportr\u001b[49m\u001b[43m(\u001b[49m\u001b[38;5;124;43m\"\u001b[39;49m\u001b[38;5;124;43mWhiteStripe\u001b[39;49m\u001b[38;5;124;43m\"\u001b[39;49m\u001b[43m)\u001b[49m\n",
      "File \u001b[0;32m~/.conda/envs/py38prf/lib/python3.8/site-packages/rpy2/robjects/packages.py:472\u001b[0m, in \u001b[0;36mimportr\u001b[0;34m(name, lib_loc, robject_translations, signature_translation, suppress_messages, on_conflict, symbol_r2python, symbol_resolve, data)\u001b[0m\n\u001b[1;32m    440\u001b[0m \u001b[38;5;124;03m\"\"\" Import an R package.\u001b[39;00m\n\u001b[1;32m    441\u001b[0m \n\u001b[1;32m    442\u001b[0m \u001b[38;5;124;03mArguments:\u001b[39;00m\n\u001b[0;32m   (...)\u001b[0m\n\u001b[1;32m    468\u001b[0m \n\u001b[1;32m    469\u001b[0m \u001b[38;5;124;03m\"\"\"\u001b[39;00m\n\u001b[1;32m    471\u001b[0m \u001b[38;5;28;01mif\u001b[39;00m \u001b[38;5;129;01mnot\u001b[39;00m isinstalled(name, lib_loc\u001b[38;5;241m=\u001b[39mlib_loc):\n\u001b[0;32m--> 472\u001b[0m     \u001b[38;5;28;01mraise\u001b[39;00m PackageNotInstalledError(\n\u001b[1;32m    473\u001b[0m         \u001b[38;5;124m'\u001b[39m\u001b[38;5;124mThe R package \u001b[39m\u001b[38;5;124m\"\u001b[39m\u001b[38;5;132;01m%s\u001b[39;00m\u001b[38;5;124m\"\u001b[39m\u001b[38;5;124m is not installed.\u001b[39m\u001b[38;5;124m'\u001b[39m \u001b[38;5;241m%\u001b[39m name\n\u001b[1;32m    474\u001b[0m     )\n\u001b[1;32m    476\u001b[0m \u001b[38;5;28;01mif\u001b[39;00m suppress_messages:\n\u001b[1;32m    477\u001b[0m     ok \u001b[38;5;241m=\u001b[39m quiet_require(name, lib_loc\u001b[38;5;241m=\u001b[39mlib_loc)\n",
      "\u001b[0;31mPackageNotInstalledError\u001b[0m: The R package \"WhiteStripe\" is not installed."
     ]
    }
   ],
   "source": [
    "WhiteStripe = importr(\"WhiteStripe\")"
   ]
  },
  {
   "cell_type": "code",
   "execution_count": null,
   "id": "4cf0dccf",
   "metadata": {},
   "outputs": [],
   "source": []
  }
 ],
 "metadata": {
  "kernelspec": {
   "display_name": "Python 3 (ipykernel)",
   "language": "python",
   "name": "python3"
  },
  "language_info": {
   "codemirror_mode": {
    "name": "ipython",
    "version": 3
   },
   "file_extension": ".py",
   "mimetype": "text/x-python",
   "name": "python",
   "nbconvert_exporter": "python",
   "pygments_lexer": "ipython3",
   "version": "3.8.15"
  }
 },
 "nbformat": 4,
 "nbformat_minor": 5
}
